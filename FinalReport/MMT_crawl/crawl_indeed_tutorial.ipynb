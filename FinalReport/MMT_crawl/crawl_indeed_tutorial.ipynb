{
 "cells": [
  {
   "cell_type": "code",
   "execution_count": 27,
   "metadata": {
    "collapsed": true
   },
   "outputs": [],
   "source": [
    "from bs4 import BeautifulSoup\n",
    "import urllib2\n",
    "# urllib.request\n",
    "import re"
   ]
  },
  {
   "cell_type": "code",
   "execution_count": 30,
   "metadata": {
    "collapsed": false
   },
   "outputs": [
    {
     "name": "stdout",
     "output_type": "stream",
     "text": [
      "10\n"
     ]
    }
   ],
   "source": [
    "# 找到单个job的link\n",
    "url = \"http://www.indeed.com/m/jobs?q=data+scientist&l=LA\"\n",
    "# 初始页\n",
    "page = urllib2.urlopen(url)\n",
    "soup = BeautifulSoup(page, 'lxml')\n",
    "all_matches = soup.findAll(attrs={'rel':['nofollow']})\n",
    "print len(all_matches)"
   ]
  },
  {
   "cell_type": "code",
   "execution_count": 34,
   "metadata": {
    "collapsed": false
   },
   "outputs": [
    {
     "name": "stdout",
     "output_type": "stream",
     "text": [
      "<class 'bs4.element.ResultSet'>\n"
     ]
    }
   ],
   "source": [
    "# 找到某个job下的job description\n",
    "for each in all_matches:\n",
    "    jd_url= 'http://www.indeed.com/m/'+each['href']\n",
    "    #print jd_url\n",
    "    jd_page =urllib2.urlopen(jd_url)\n",
    "    jd_soup = BeautifulSoup(jd_page, 'lxml')\n",
    "    jd_desc = jd_soup.findAll(attrs={'id':['desc']})\n",
    "    #print jd_desc\n",
    "    print type(jd_desc)\n",
    "    break"
   ]
  },
  {
   "cell_type": "code",
   "execution_count": 39,
   "metadata": {
    "collapsed": false
   },
   "outputs": [],
   "source": [
    "# 将jd 写入到txt文档中\n",
    "f=open('crawl.txt', 'w')\n",
    "for each in all_matches:\n",
    "    jd_url= 'http://www.indeed.com/m/'+each['href']\n",
    "    jd_page =urllib2.urlopen(jd_url)\n",
    "    jd_soup = BeautifulSoup(jd_page, 'lxml')\n",
    "    title= jd_soup.html.head.title\n",
    "    #print title.string\n",
    "    f.write(title.string+'\\n')\n",
    "    jd_desc = jd_soup.findAll(attrs={'id':['desc']})\n",
    "    #print jd_desc\n",
    "    # https://www.crummy.com/software/BeautifulSoup/bs3/documentation.html\n",
    "    # 这里有直接调出不含tag的方法介绍，不过自己clean或许更快\n",
    "    f.write(str(jd_desc))\n",
    "    f.write('\\n################\\n')"
   ]
  },
  {
   "cell_type": "code",
   "execution_count": 36,
   "metadata": {
    "collapsed": true
   },
   "outputs": [],
   "source": [
    "# 以上是单个page下爬出10份工作的\n",
    "# 如何让爬虫程序自己换页？\n",
    "for i in range(100):\n",
    "    url = \"http://www.indeed.com/m/jobs?q=data+scientist&l=LA\"\n",
    "    # 初始页\n",
    "    page = urllib2.urlopen(url)\n",
    "    soup = BeautifulSoup(page, 'lxml')\n",
    "    all_matches = soup.findAll(attrs={'rel':['nofollow']})\n",
    "    for each in all_matches:\n",
    "        jd_url= 'http://www.indeed.com/m/'+each['href']\n",
    "        jd_page =urllib2.urlopen(jd_url)\n",
    "        jd_soup = BeautifulSoup(jd_page, 'lxml')\n",
    "        jd_desc = jd_soup.findAll(attrs={'id':['desc']})\n",
    "        f.write(str(jd_desc))\n",
    "        f.write('\\n################\\n')\n",
    "    url_all = soup.findAll(attrs={'rel':['next']})\n",
    "    url = 'http://www.indeed.com/m/'+ str(url_all[0]['href'])\n"
   ]
  },
  {
   "cell_type": "code",
   "execution_count": null,
   "metadata": {
    "collapsed": true
   },
   "outputs": [],
   "source": []
  }
 ],
 "metadata": {
  "kernelspec": {
   "display_name": "Python 2",
   "language": "python",
   "name": "python2"
  },
  "language_info": {
   "codemirror_mode": {
    "name": "ipython",
    "version": 2
   },
   "file_extension": ".py",
   "mimetype": "text/x-python",
   "name": "python",
   "nbconvert_exporter": "python",
   "pygments_lexer": "ipython2",
   "version": "2.7.11"
  }
 },
 "nbformat": 4,
 "nbformat_minor": 0
}